#Design visual search for Pinterest.

!pip install tensorflow scikit-learn numpy pillow

#FEATURE EXTRACTION AND PRE_TRAINING MODEL
import numpy as np
import tensorflow as tf
from tensorflow.keras.applications import VGG16
from tensorflow.keras.preprocessing import image
from tensorflow.keras.applications.vgg16 import preprocess_input
from sklearn.neighbors import NearestNeighbors
from PIL import Image
import os

# Load the pre-trained VGG16 model
model = VGG16(weights='imagenet', include_top=False, pooling='avg')

def extract_features(img_path):
    img = image.load_img(img_path, target_size=(224, 224))
    img_array = image.img_to_array(img)
    img_array = np.expand_dims(img_array, axis=0)
    img_array = preprocess_input(img_array)
    features = model.predict(img_array)
    return features.flatten()

# Path to your image dataset
image_folder = 'path/to/your/images'

# Extract features for all images in the dataset
features_list = []
image_paths = []

for img_name in os.listdir(image_folder):
    img_path = os.path.join(image_folder, img_name)
    features = extract_features(img_path)
    features_list.append(features)
    image_paths.append(img_path)

# Convert list to numpy array
features_array = np.array(features_list)

# Indexing using Nearest Neighbors
knn = NearestNeighbors(n_neighbors=5, metric='cosine')
knn.fit(features_array)


#QUERY PROCESSING
def search_similar_images(query_img_path):
    query_features = extract_features(query_img_path)
    distances, indices = knn.kneighbors([query_features])
    
    similar_images = [image_paths[i] for i in indices[0]]
    return similar_images

# Test the search
query_image_path = 'path/to/query/image.jpg'
results = search_similar_images(query_image_path)
print('Similar images found:')
for result in results:
    print(result)
