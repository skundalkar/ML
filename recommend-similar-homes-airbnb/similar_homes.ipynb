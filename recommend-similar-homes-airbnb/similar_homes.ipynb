#Recommend similar homes on airBnb

!pip install pandas scikit-learn numpy
#DATA SETUP and PREPARATION
import pandas as pd

# Sample home data
data = {
    'home_id': [1, 2, 3, 4, 5],
    'location': ['New York', 'San Francisco', 'New York', 'Los Angeles', 'San Francisco'],
    'price': [100, 150, 120, 200, 160],
    'type': ['Apartment', 'House', 'Apartment', 'House', 'Apartment'],
    'amenities': ['WiFi, Kitchen', 'WiFi, Pool', 'WiFi, Kitchen, TV', 'Pool, Parking', 'WiFi, Kitchen, Parking']
}

# Create DataFrame
df = pd.DataFrame(data)
print(df)

#FEATURE EXTRACTION
from sklearn.feature_extraction.text import TfidfVectorizer
from sklearn.metrics.pairwise import cosine_similarity

# Combine features into a single text field
df['combined_features'] = df['location'] + ' ' + df['type'] + ' ' + df['amenities']

# Initialize TF-IDF Vectorizer
vectorizer = TfidfVectorizer()
tfidf_matrix = vectorizer.fit_transform(df['combined_features'])

#SIMILARITY CALCULATIONS
def recommend_similar_homes(home_id, top_n=3):
    # Get the index of the home
    home_index = df[df['home_id'] == home_id].index[0]
    
    # Compute cosine similarities
    cosine_similarities = cosine_similarity(tfidf_matrix[home_index], tfidf_matrix).flatten()
    
    # Get indices of most similar homes
    similar_indices = cosine_similarities.argsort()[-top_n-1:-1][::-1]
    
    # Return similar homes
    similar_homes = df.iloc[similar_indices]
    return similar_homes

# Test the recommendation
home_id = 1  # Example home ID
similar_homes = recommend_similar_homes(home_id)
print("Similar homes to home ID", home_id, ":")
print(similar_homes[['home_id', 'location', 'price', 'type', 'amenities']])
