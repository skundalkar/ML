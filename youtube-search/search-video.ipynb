#SAMPLE DATA
import pandas as pd

# Sample video metadata
data = {
    'video_id': ['v1', 'v2', 'v3'],
    'title': ['How to Learn Python', 'Introduction to Machine Learning', 'Advanced Python Techniques'],
    'description': [
        'This video covers the basics of Python programming.',
        'Learn about machine learning and its applications.',
        'Deep dive into advanced Python features and libraries.'
    ],
    'tags': ['python, programming', 'machine learning, ai', 'python, advanced']
}

# Create DataFrame
df = pd.DataFrame(data)

# Save to CSV
df.to_csv('videos.csv', index=False)

#INDEXING AND SEARCH
import pandas as pd
from sklearn.feature_extraction.text import TfidfVectorizer
from sklearn.metrics.pairwise import linear_kernel

# Load video metadata
df = pd.read_csv('videos.csv')

# Combine title, description, and tags into a single text field for each video
df['combined_text'] = df['title'] + ' ' + df['description'] + ' ' + df['tags']

# Initialize TF-IDF Vectorizer
vectorizer = TfidfVectorizer(stop_words='english')
tfidf_matrix = vectorizer.fit_transform(df['combined_text'])

def search_videos(query):
    # Transform the search query using the same vectorizer
    query_vector = vectorizer.transform([query])
    
    # Compute cosine similarity between the query and video metadata
    cosine_similarities = linear_kernel(query_vector, tfidf_matrix).flatten()
    
    # Get indices of the most similar videos
    related_docs_indices = cosine_similarities.argsort()[::-1]
    
    # Return top 3 results
    results = df.iloc[related_docs_indices[:3]]
    return results

# Test the search function
query = 'learn python programming'
results = search_videos(query)
print('Search Results:')
print(results[['video_id', 'title', 'description']])
