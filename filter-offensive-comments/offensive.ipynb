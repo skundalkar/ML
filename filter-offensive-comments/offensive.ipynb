#Filter offensive online comments.


#DATA PREPARATION
import pandas as pd

# Sample dataset of comments
data = {
    'comment': [
        'This is a great post!',
        'You are an idiot!',
        'I love this article, thanks for sharing.',
        'Get lost, jerk!',
        'This is very informative, keep it up!',
        'Horrible, just horrible!'
    ],
    'label': [0, 1, 0, 1, 0, 1]  # 0: non-offensive, 1: offensive
}

# Create DataFrame
df = pd.DataFrame(data)
print(df)

#TEXT PREPROCESSING
from sklearn.model_selection import train_test_split
from sklearn.feature_extraction.text import TfidfVectorizer
from sklearn.pipeline import Pipeline
from sklearn.naive_bayes import MultinomialNB
from sklearn.metrics import classification_report

# Splitting data into training and testing sets
X_train, X_test, y_train, y_test = train_test_split(df['comment'], df['label'], test_size=0.2, random_state=42)

# Initialize TF-IDF Vectorizer
vectorizer = TfidfVectorizer(stop_words='english')

# Initialize Multinomial Naive Bayes classifier
classifier = MultinomialNB()

# Create a pipeline that combines TF-IDF and classifier
pipeline = Pipeline([
    ('tfidf', vectorizer),
    ('clf', classifier)
])
TF-IDF Vectorization: Convert text comments into numerical vectors using TfidfVectorizer, which considers the importance of each word in the context of the dataset.
Naive Bayes Classifier: Use a MultinomialNB classifier to predict whether a comment is offensive based on the features extracted.


# Train the model
pipeline.fit(X_train, y_train)

# Predict on test data
y_pred = pipeline.predict(X_test)

# Evaluate the model
print("Classification Report:")
print(classification_report(y_test, y_pred))

#USING MODEL FOR PREDICTIONS
def predict_comment(comment):
    prediction = pipeline.predict([comment])
    return 'Offensive' if prediction[0] == 1 else 'Non-Offensive'

# Test the prediction function
new_comments = [
    'You are a wonderful person!',
    'Shut up and leave!',
    'This is a well-written piece.',
    'I hate this so much!'
]

for comment in new_comments:
    print(f"Comment: '{comment}' - Prediction: {predict_comment(comment)}")
