#SAMPLE DATA SCHEMA
import pandas as pd

# Sample data schema for orders
data = {
    'order_id': [1, 2, 3, 4, 5],
    'restaurant_id': [101, 102, 101, 103, 104],
    'customer_id': [1001, 1002, 1001, 1003, 1004],
    'delivery_address': ['123 St', '456 Ave', '123 St', '789 Blvd', '101 Rd'],
    'items_ordered': [['burger', 'fries'], ['pizza', 'salad'], ['burger'], ['pasta', 'soda'], ['sushi']],
    'order_time': pd.to_datetime(['2024-01-01 12:00:00', '2024-01-01 13:00:00', '2024-01-01 14:00:00', '2024-01-02 12:00:00', '2024-01-02 13:00:00']),
    'error_type': ['none', 'wrong_item', 'none', 'wrong_item', 'missing_item']
}

df = pd.DataFrame(data)
print(df)

#DATA PREPROCESSING
from sklearn.model_selection import train_test_split
from sklearn.preprocessing import LabelEncoder, OneHotEncoder
from sklearn.feature_extraction.text import CountVectorizer

# Example preprocessing
df['error_flag'] = df['error_type'].apply(lambda x: 1 if x != 'none' else 0)

# Feature Engineering
df['order_hour'] = df['order_time'].dt.hour
df['order_day'] = df['order_time'].dt.dayofweek

# Convert categorical data to numeric
label_encoder = LabelEncoder()
df['delivery_address_encoded'] = label_encoder.fit_transform(df['delivery_address'])

# Vectorize items ordered
vectorizer = CountVectorizer(tokenizer=lambda x: x, lowercase=False)
item_features = vectorizer.fit_transform(df['items_ordered'].apply(lambda x: ' '.join(x)))

# Combine features
import scipy.sparse as sp
X = sp.hstack([df[['restaurant_id', 'customer_id', 'order_hour', 'order_day', 'delivery_address_encoded']], item_features])
y = df['error_flag']

# Split data
X_train, X_test, y_train, y_test = train_test_split(X, y, test_size=0.2, random_state=42)

#MODEL TRAINING
from sklearn.ensemble import RandomForestClassifier
from sklearn.metrics import classification_report, accuracy_score

# Initialize and train model
model = RandomForestClassifier(n_estimators=100, random_state=42)
model.fit(X_train, y_train)

# Predict and evaluate
y_pred = model.predict(X_test)
print("Accuracy Score:", accuracy_score(y_test, y_pred))
print("Classification Report:")
print(classification_report(y_test, y_pred))
