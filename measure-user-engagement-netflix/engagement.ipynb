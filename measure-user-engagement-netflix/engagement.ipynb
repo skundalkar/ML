#DATA COLLECTION
import pandas as pd
import numpy as np

# Sample dataset
data = {
    'user_id': [1, 1, 2, 2, 3, 3, 3, 4, 4],
    'content_id': [101, 102, 101, 103, 104, 105, 106, 107, 108],
    'timestamp': pd.to_datetime([
        '2024-01-01 12:00:00', '2024-01-01 14:00:00',
        '2024-01-02 09:00:00', '2024-01-02 10:00:00',
        '2024-01-03 15:00:00', '2024-01-03 16:00:00', '2024-01-03 17:00:00',
        '2024-01-04 11:00:00', '2024-01-04 13:00:00'
    ]),
    'duration_watched': [30, 45, 60, 20, 90, 40, 70, 55, 80]  # in minutes
}

df = pd.DataFrame(data)
print(df)

#DATA PREPROCESSING
# Feature Engineering
df['date'] = df['timestamp'].dt.date
df['time_of_day'] = df['timestamp'].dt.hour

# Aggregating features
user_engagement = df.groupby('user_id').agg(
    total_watch_time=('duration_watched', 'sum'),
    num_sessions=('content_id', 'count'),
    avg_watch_time=('duration_watched', 'mean')
).reset_index()

print(user_engagement)

#MODEL TRAINING
from sklearn.model_selection import train_test_split
from sklearn.linear_model import LinearRegression
from sklearn.metrics import mean_squared_error

# Define features and target variable
X = user_engagement[['total_watch_time', 'num_sessions', 'avg_watch_time']]
y = user_engagement['num_sessions']  # Assuming num_sessions as a proxy for engagement

# Split data
X_train, X_test, y_train, y_test = train_test_split(X, y, test_size=0.2, random_state=42)

# Initialize and train model
model = LinearRegression()
model.fit(X_train, y_train)

# Predict and evaluate
y_pred = model.predict(X_test)
mse = mean_squared_error(y_test, y_pred)

print("Mean Squared Error:", mse)

#PREDICTION
def predict_engagement(features):
    return model.predict([features])[0]

# Example new user data
new_user_features = [120, 10, 12]  # Example: [total_watch_time, num_sessions, avg_watch_time]
predicted_engagement = predict_engagement(new_user_features)
print("Predicted Engagement:", predicted_engagement)
